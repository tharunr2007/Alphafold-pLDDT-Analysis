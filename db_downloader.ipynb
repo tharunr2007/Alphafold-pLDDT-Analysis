{
 "cells": [
  {
   "cell_type": "markdown",
   "metadata": {},
   "source": [
    "This notebook downloads the required databases to the databases directory to run the rest of the analysis. This also unzips the files and deletes the original zip file"
   ]
  },
  {
   "cell_type": "code",
   "execution_count": null,
   "metadata": {},
   "outputs": [],
   "source": [
    "import os\n",
    "import subprocess\n",
    "import tarfile\n",
    "\n",
    "# Set the target folder path (change this to your desired directory)\n",
    "target_folder = \"databases\"\n",
    "os.makedirs(target_folder, exist_ok=True)\n",
    "\n",
    "# List of file URLs to download using wget.\n",
    "# Update the second URL as appropriate for UP000002311.\n",
    "file_urls = [\n",
    "    \"https://ftp.ebi.ac.uk/pub/databases/alphafold/v4/UP000000625_83333_ECOLI_v4.tar\",\n",
    "    \"https://ftp.ebi.ac.uk/pub/databases/alphafold/v4/UP000000625_83333_ECOLI_v4.tar\" \n",
    "]\n",
    "\n",
    "for url in file_urls:\n",
    "    print(f\"Downloading {url} into {target_folder} ...\")\n",
    "    # Download the file using wget\n",
    "    subprocess.run([\"wget\", \"-P\", target_folder, url], check=True)\n",
    "    print(\"Download complete.\")\n",
    "\n",
    "    # Determine the local file path from the URL\n",
    "    file_name = url.split(\"/\")[-1]\n",
    "    local_file_path = os.path.join(target_folder, file_name)\n",
    "    \n",
    "    # Extract the tar file\n",
    "    print(f\"Extracting {local_file_path} ...\")\n",
    "    try:\n",
    "        with tarfile.open(local_file_path, \"r:*\") as tar:\n",
    "            tar.extractall(path=target_folder)\n",
    "        print(\"Extraction complete.\")\n",
    "    except Exception as e:\n",
    "        print(f\"Error extracting {local_file_path}: {e}\")\n",
    "        continue\n",
    "\n",
    "    # Remove the original tar file\n",
    "    try:\n",
    "        os.remove(local_file_path)\n",
    "        print(f\"Removed archive {local_file_path}.\\n\")\n",
    "    except Exception as e:\n",
    "        print(f\"Error removing {local_file_path}: {e}\")"
   ]
  }
 ],
 "metadata": {
  "kernelspec": {
   "display_name": "PH245_Project",
   "language": "python",
   "name": "python3"
  },
  "language_info": {
   "codemirror_mode": {
    "name": "ipython",
    "version": 3
   },
   "file_extension": ".py",
   "mimetype": "text/x-python",
   "name": "python",
   "nbconvert_exporter": "python",
   "pygments_lexer": "ipython3",
   "version": "3.10.16"
  }
 },
 "nbformat": 4,
 "nbformat_minor": 2
}
